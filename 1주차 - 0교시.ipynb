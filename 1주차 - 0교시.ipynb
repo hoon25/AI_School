{
 "cells": [
  {
   "cell_type": "markdown",
   "metadata": {},
   "source": [
    "# 인공지능\n",
    "## 인공지능이란\n",
    "\n",
    "1. Field of Artificial Intelligence\n",
    "2. Field of Machine Learning\n",
    "    - 지도학습, 비지도학습, 강화학습\n",
    "3. Deep Learning"
   ]
  },
  {
   "cell_type": "markdown",
   "metadata": {},
   "source": [
    "## 인공지능 활용 사례\n",
    "1. 컴퓨터 비전\n",
    "    - 객체 인식, 자율주행, 생체인식 등\n",
    "2. 생성모델(GAN)\n",
    "    - Generator, Discriminator\n",
    "    - 서로 적대적인 관계로 학습\n",
    "3. 자연어 처리 \n",
    "    - 챗봇, 자동 기사 생성, GPT, QA, 기계 번역 등\n",
    "4. Multi Modal \n",
    "    - 이미지 + 텍스트 등\n",
    "5. Speech \n",
    "    - 자동 자막 생성, 음악 찾기 및 추천\n",
    "6. 강화학습\n",
    "    - Alpago zero"
   ]
  },
  {
   "cell_type": "markdown",
   "metadata": {},
   "source": [
    "# 파이썬\n",
    "## 파이썬이란?\n",
    "- 1990년 Guido Van Rossum이 개발한 인터프리터 언어\n",
    "- 인터프리터 언어 : 한 줄씩 소스 코드를 해석해서 그때그때 실행하고 결과를 바로 확인할 수 있는 언어 \n",
    "\n",
    "## 파이썬의 특징\n",
    "1. 인간다운 언어 \n",
    "2. 쉬운 프로그램 문법\n",
    "3. 빠르게 학습 가능\n",
    "4. 간결성\n",
    "5. 빠른 개발 속도\n",
    "\n",
    "## 파이썬의 자료형\n",
    "- 자료형이란 프로그래밍을 할 때 쓰이는 숫자, 문자열 등 자료형태로 사용하는 모든 데이터를 뜻함\n",
    "- 변수 : 데이터를 메모리에 저장하기 위해 할당하는 공간(할당 후 내부의 값 변경 가능) \n",
    "\n",
    "### 파이썬의 자료형 - 숫자\n",
    "- int(정수형) \n",
    "- float(실수형) \n",
    "    - a = 3.5e-3 : 왼쪽으로 점의위치 3칸 이동\n",
    "        - 0.0035\n",
    "    - a = 2e+3 : 오른쪽으로 점의위치 3칸 이동 \n",
    "        - 2000.0\n",
    "- 연산 \n",
    "    - a + b : 덧셈 \n",
    "    - a - b : 뺄셈\n",
    "    - a * b : 곱셈\n",
    "    - a/b : 나눗셈\n",
    "    - a**b : 제곱\n",
    "    - a//b : 몫\n",
    "    - a % b : 나머지"
   ]
  },
  {
   "cell_type": "markdown",
   "metadata": {},
   "source": [
    "### 파이썬의 자료형 - 문자\n",
    "- 큰/작은 따옴표 3개 찍으면 여러줄로 표현 가능"
   ]
  },
  {
   "cell_type": "code",
   "execution_count": 5,
   "metadata": {},
   "outputs": [
    {
     "name": "stdout",
     "output_type": "stream",
     "text": [
      "\n",
      "    Life is too short\n",
      "    You need Python \n",
      "    \n"
     ]
    }
   ],
   "source": [
    "multiline = '''\n",
    "    Life is too short\n",
    "    You need Python \n",
    "    '''\n",
    "print(multiline)"
   ]
  },
  {
   "cell_type": "markdown",
   "metadata": {},
   "source": [
    "- 문자열 연산, 인덱싱, 슬라이싱"
   ]
  },
  {
   "cell_type": "code",
   "execution_count": 10,
   "metadata": {},
   "outputs": [
    {
     "name": "stdout",
     "output_type": "stream",
     "text": [
      "hi My name is hoon\n",
      "==============================\n",
      "M\n",
      "n\n",
      "My\n",
      "name is hoon\n",
      "홀홀홀\n",
      "짝짝짝\n"
     ]
    }
   ],
   "source": [
    "#  연산\n",
    "a = \"hi \" \n",
    "b = \"My name is hoon\"\n",
    "print(a + b)\n",
    "print(\"=\"*30)\n",
    "\n",
    "# 인덱싱\n",
    "print(b[0])  # M\n",
    "print(b[-1]) # n 마지막 문자\n",
    "print(b[:2]) # My 처음부터 3번째 문자까지\n",
    "print(b[3:]) # name is hoon 3번째 문자부터 끝까지\n",
    "\n",
    "# 슬라이싱\n",
    "odd_even = \"홀짝홀짝홀짝\"\n",
    "# print(odd_even[:::]) # a 이상 b미만 c단위로\n",
    "print(odd_even[::2]) # 홀홀홀 0부터 끝까지 2단위로 \n",
    "print(odd_even[1::2]) # 짝짝짝 1부터 끝까지 2단위로 "
   ]
  },
  {
   "cell_type": "markdown",
   "metadata": {},
   "source": [
    "- 문자열 관련 함수"
   ]
  },
  {
   "cell_type": "code",
   "execution_count": 2,
   "metadata": {},
   "outputs": [
    {
     "name": "stdout",
     "output_type": "stream",
     "text": [
      "2\n",
      "1\n",
      "1\n",
      "a.p.p.l.e\n",
      "APPLE\n",
      "apple\n",
      "['How', 'can', 'I', 'improve', 'my', 'coding', 'skills']\n"
     ]
    }
   ],
   "source": [
    "a = 'apple'\n",
    "print(a.count(\"p\")) # p의 개수\n",
    "print(a.find(\"p\")) # 첫 p의 인덱스, 없는 값일 경우 -1이 나옴\n",
    "print(a.index(\"p\")) # 첫 p의 인덱스, 없는 값일 경우 error 발생\n",
    "print(\".\".join(a)) # 글자사이에 '.' 넣음\n",
    "print(a.upper()) # 대문자로\n",
    "print(a.lower()) # 소문자로\n",
    "\n",
    "b = \" How can I improve my coding skills? \"\n",
    "b = b.strip() # 문자열 앞뒤 빈칸을 없애 버려라.\n",
    "b = b.replace(\"?\", \"\") # ?를 \"\"으로 바꾼다. \n",
    "word_list = b.split(\" \") # 뛰어쓰기 기준으로 나눈다. \n",
    "print(word_list)"
   ]
  },
  {
   "cell_type": "markdown",
   "metadata": {},
   "source": [
    "- 문자열 포맷팅"
   ]
  },
  {
   "cell_type": "code",
   "execution_count": 6,
   "metadata": {},
   "outputs": [
    {
     "name": "stdout",
     "output_type": "stream",
     "text": [
      "I eat 4 apples.\n",
      "I eat 4 apples.\n",
      "I eat three apples.\n",
      "I eat 4 apples and 2 oranges.\n",
      "I eat 4 apples and 2 oranges.\n",
      "I eat 1 apples and 2 oranges.\n",
      "Error is 98%.\n",
      "I eat 4 apples.\n",
      "pi = 3.141592\n",
      "pi = 3.1416\n"
     ]
    }
   ],
   "source": [
    "apple_num = 4\n",
    "orange_num = 2\n",
    "apple_num_string = \"three\"\n",
    "\n",
    "print(\"I eat %d apples.\" % apple_num) # 10진수가 들어오는구나\n",
    "print(\"I eat {0} apples.\" .format(apple_num)) # 0 포맷뒤에 들어오는 변수의 위치\n",
    "print(\"I eat %s apples.\" % apple_num_string) # 문자열 들어오는구나\n",
    "print(\"I eat %d apples and %d oranges.\" %(apple_num,orange_num)) # 순서대로\n",
    "print(\"I eat {0} apples and {1} oranges.\" .format(apple_num, orange_num))\n",
    "print(\"I eat {apple_num} apples and {orange_num} oranges.\".format(apple_num = 1, orange_num = 2))  \n",
    "# 마지막 방법을 제일 많이 씀(보기에도 직관적)\n",
    "\n",
    "print(\"Error is %d%%.\" % 98)\n",
    "print(f'I eat {apple_num} apples.') # 문자열 앞에 f넣으면 그 뒤로 {변수} 들어간다는 의미\n",
    "\n",
    "pi = 3.141592\n",
    "print(\"pi = %f\" %pi)\n",
    "print(\"pi = %0.4f\" %pi) # 소수점 아래 4자리까지만 표시"
   ]
  },
  {
   "cell_type": "markdown",
   "metadata": {},
   "source": [
    "### 파이썬 자료형 - 리스트"
   ]
  },
  {
   "cell_type": "code",
   "execution_count": 8,
   "metadata": {},
   "outputs": [
    {
     "name": "stdout",
     "output_type": "stream",
     "text": [
      "5\n",
      "3\n"
     ]
    }
   ],
   "source": [
    "a = [1, 2, 3, 4, 5]\n",
    "b = [\"a\", \"b\", \"c\", \"d\"]\n",
    "c = [1, \"a\", 2.5]  # 리스트 안에 여러타입 있어도 가능\n",
    "print(len(a))\n",
    "\n",
    "d = [1, 2, [3, 4, 5]]  # 리스트 안에 리스트 \n",
    "print(len(d))"
   ]
  },
  {
   "cell_type": "markdown",
   "metadata": {},
   "source": [
    "- 리스트 인덱싱과 슬라이싱"
   ]
  },
  {
   "cell_type": "code",
   "execution_count": 12,
   "metadata": {},
   "outputs": [
    {
     "name": "stdout",
     "output_type": "stream",
     "text": [
      "1\n",
      "5\n",
      "[1, 2]\n",
      "[1, 2]\n",
      "[3, 4, 5]\n",
      "[1, 2, 3, 4, 5, 'a', 'b', 'c', 'd']\n",
      "[1, 2, 3, 4, 5, 1, 2, 3, 4, 5, 1, 2, 3, 4, 5]\n",
      "[3, 4]\n"
     ]
    }
   ],
   "source": [
    "a = [1, 2, 3, 4, 5]\n",
    "b = [\"a\", \"b\", \"c\", \"d\"]\n",
    "print(a[0])\n",
    "print(a[-1]) # 맨 뒤 문자\n",
    "print(a[0:2]) # 인덱스 0부터 2까지\n",
    "print(a[:2]) # 인덱스 처음부터 2까지 \n",
    "print(a[2:]) # 인덱스 2부터 끝까지\n",
    "print(a+b) # [1, 2, 3, 4, 5, 'a', 'b', 'c', 'd']\n",
    "print(a*3) # [1, 2, 3, 4, 5, 1, 2, 3, 4, 5, 1, 2, 3, 4, 5]\n",
    "\n",
    "d = [1, 2, [3, 4, 5]]\n",
    "print(d[2][:2]) # 리스트 속의 리스트를 선택하고 그 후 인덱싱"
   ]
  },
  {
   "cell_type": "markdown",
   "metadata": {},
   "source": [
    "- 리스트 관련 함수"
   ]
  },
  {
   "cell_type": "code",
   "execution_count": 16,
   "metadata": {},
   "outputs": [
    {
     "name": "stdout",
     "output_type": "stream",
     "text": [
      "1\n",
      "[5, 4, 3, 2]\n",
      "[5, 4, 3, 2, 1, 0]\n",
      "[5, 4, 3, 2, 1, 0, [1, 0]]\n"
     ]
    }
   ],
   "source": [
    "a = [2, 1, 5, 4, 3]\n",
    "b = sorted(a) # 정렬하는 것 a의 값은 바뀌지 않으므로 b에 할당해야함\n",
    "a.sort() # a 값 자체가 오름차순 정렬됨\n",
    "a.reverse() # b 값 자체가 내림차순 정렬됨\n",
    "a.insert(0,6) # 0번째 인덱스에 6을 넣음\n",
    "a.remove(6) # 6을 제거(왼쪽부터)\n",
    "\n",
    "print(a.pop()) # 오른쪽에 있는 값 추출\n",
    "print(a) # [5,4,3,2,1] 1이 추출됨\n",
    "a.extend([1,0]) # 리스트를 붙여 주는 것\n",
    "print(a) # [5, 4, 3, 2, 1, 0]\n",
    "a.append([1,0]) # 리스트 안으로 들어 가는 것\n",
    "print(a) # [5, 4, 3, 2, 1, 0, [1, 0]]"
   ]
  }
 ],
 "metadata": {
  "kernelspec": {
   "display_name": "Python 3",
   "language": "python",
   "name": "python3"
  },
  "language_info": {
   "codemirror_mode": {
    "name": "ipython",
    "version": 3
   },
   "file_extension": ".py",
   "mimetype": "text/x-python",
   "name": "python",
   "nbconvert_exporter": "python",
   "pygments_lexer": "ipython3",
   "version": "3.8.3"
  },
  "toc": {
   "base_numbering": 1,
   "nav_menu": {},
   "number_sections": true,
   "sideBar": true,
   "skip_h1_title": false,
   "title_cell": "Table of Contents",
   "title_sidebar": "Contents",
   "toc_cell": false,
   "toc_position": {},
   "toc_section_display": true,
   "toc_window_display": false
  },
  "varInspector": {
   "cols": {
    "lenName": 16,
    "lenType": 16,
    "lenVar": 40
   },
   "kernels_config": {
    "python": {
     "delete_cmd_postfix": "",
     "delete_cmd_prefix": "del ",
     "library": "var_list.py",
     "varRefreshCmd": "print(var_dic_list())"
    },
    "r": {
     "delete_cmd_postfix": ") ",
     "delete_cmd_prefix": "rm(",
     "library": "var_list.r",
     "varRefreshCmd": "cat(var_dic_list()) "
    }
   },
   "types_to_exclude": [
    "module",
    "function",
    "builtin_function_or_method",
    "instance",
    "_Feature"
   ],
   "window_display": false
  }
 },
 "nbformat": 4,
 "nbformat_minor": 4
}
