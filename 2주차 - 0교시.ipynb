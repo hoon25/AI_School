{
 "cells": [
  {
   "cell_type": "markdown",
   "metadata": {},
   "source": [
    "# 파이썬의 자료형 \n",
    "## 파이썬의 자료형 - 딕셔너리"
   ]
  },
  {
   "cell_type": "markdown",
   "metadata": {},
   "source": [
    "딕셔너리란? \n",
    "- 마치 사전처럼 하나의 값(key)과 그 값에 해당하는 값(value)를 연결한 자료들을 모아둔 자료형"
   ]
  },
  {
   "cell_type": "markdown",
   "metadata": {},
   "source": [
    "딕셔너리 생성\n",
    "- 변수 = {key1:value1, key2:value2, key3:value3, ...}\n",
    "\n",
    "- 변수 = {}\n",
    "- 변수[key1] = value1\n",
    "- 변수[key2] = value2 "
   ]
  },
  {
   "cell_type": "markdown",
   "metadata": {},
   "source": [
    "딕셔너리 특징 \n",
    "- Key와 value는 한 쌍 임 \n",
    "- 순서가 없음 \n",
    "- Key에 따른 Value 값을 찾을 때 앞에서부터 찾을 필요가 없이 바로 찾아냄(시간 복잡도1) - 데이터가 클 수록 시간이 많이걸리는데 이것을 단축"
   ]
  },
  {
   "cell_type": "code",
   "execution_count": 4,
   "metadata": {},
   "outputs": [
    {
     "name": "stdout",
     "output_type": "stream",
     "text": [
      "{'Jenny': 20, 'Ella': 31, 'John': 26, 'Tom': 29}\n",
      "20\n",
      "26\n",
      "29\n",
      "21\n",
      "21\n",
      "dict_keys(['Jenny', 'Ella', 'John', 'Tom'])\n",
      "Jenny 21\n",
      "Ella 31\n",
      "John 26\n",
      "Tom 29\n",
      "0 Jenny 21\n",
      "1 Ella 31\n",
      "2 John 26\n",
      "3 Tom 29\n",
      "0 Jenny 21\n",
      "1 Ella 31\n",
      "2 John 26\n",
      "3 Tom 29\n",
      "False\n",
      "True\n"
     ]
    }
   ],
   "source": [
    "### dictionary 사용법\n",
    "name_to_age = {\"Jenny\": 20, \"Ella\":31}\n",
    "name_to_age[\"John\"] = 26\n",
    "name_to_age[\"Tom\"] = 29\n",
    "print(name_to_age)  # Jenny, Ella, John, Tom 모두 나오게 됨\n",
    "\n",
    "# 각 key별로 value 각각 불러오기\n",
    "print(name_to_age[\"Jenny\"])\n",
    "print(name_to_age[\"John\"])\n",
    "print(name_to_age[\"Tom\"])\n",
    "\n",
    "# key의 value값 바꾸기\n",
    "name_to_age[\"Jenny\"] = 21\n",
    "\n",
    "# value 값만 불러오기 \n",
    "print(name_to_age[\"Jenny\"]) \n",
    "print(name_to_age.get(\"Jenny\"))  \n",
    "\n",
    "# key값만 리스트의 형태로 불러오기\n",
    "print(name_to_age.keys())\n",
    "\n",
    "# 각 key를 for문으로 가져와서 key와 value 추출\n",
    "for name in name_to_age.keys():\n",
    "    print(name, name_to_age[name])\n",
    "\n",
    "## enumerate : for 뒤에 있는 첫번째 변수에 몇번 반복되었는지 저장 \n",
    "# 딥러닝에서 몇번 반복되었는지 확인하기 위해서 사용되곤 함\n",
    "for i, name in enumerate(name_to_age.keys()):\n",
    "    print(i, name, name_to_age[name])\n",
    "    # print(i,name, name_to_age.get(name))    \n",
    "\n",
    "# 딕셔너리 안에 key 값 존재 여부 확인 \n",
    "print(\"Andrew\" in name_to_age) # False\n",
    "print(\"Ella\" in name_to_age) # True"
   ]
  },
  {
   "cell_type": "markdown",
   "metadata": {},
   "source": [
    "## 파이썬의 자료형 - 집합(set)\n",
    "\n",
    "집합이란??\n",
    "- 중복된 요소가 없이 유니크한 값들만 모아둔 자료형 \n",
    "\n",
    "집합의 특징\n",
    "- 중복을 허용하지 않음 \n",
    "- 순서가 없음\n",
    "- List로부터 혹은 문자열을 입력으로 받아서 만들 수 있음 "
   ]
  },
  {
   "cell_type": "code",
   "execution_count": 12,
   "metadata": {},
   "outputs": [
    {
     "name": "stdout",
     "output_type": "stream",
     "text": [
      "{'e', 'l', 'H', 'o'}\n",
      "{1, 2, 3, 4, 5}\n",
      "[1, 2, 3, 4, 5]\n"
     ]
    }
   ],
   "source": [
    "s1 = set(\"Hello\")\n",
    "print(s1)\n",
    "s2 = set([1,1,2,2,3,4,5])\n",
    "print(s2)\n",
    "\n",
    "# 다시 리스트로 만들고 싶다면\n",
    "# 주로 중복된 것을 제거할 때 사용하는 함수 \n",
    "s3 = list(s2)\n",
    "print(s3)"
   ]
  },
  {
   "cell_type": "markdown",
   "metadata": {},
   "source": [
    "# 파이썬 함수\n",
    "\n",
    "함수란?? \n",
    "- 입력을 가지고 처리를 하고 결과물을 내어준느 것 \n",
    "- ex) y = 2x+3\n",
    "\n",
    "왜 함수를 사용? \n",
    "- 코딩을 하다 보면 2번이상 같이 코드를 치고 있는 상황에서 매우 유용 \n",
    "- 코드가 읽기 쉬워 짐 \n",
    "\n",
    "파이썬 함수의 구조\n",
    "\n",
    "```def 함수_이름(입력값1, 입력값2, ...): \n",
    "    수행할_문장\n",
    "    return 결과값```"
   ]
  },
  {
   "cell_type": "code",
   "execution_count": 14,
   "metadata": {},
   "outputs": [
    {
     "name": "stdout",
     "output_type": "stream",
     "text": [
      "8\n",
      "8\n",
      "3\n",
      "8\n",
      "15\n",
      "(8, 15)\n",
      "(3, 2)\n",
      "<class 'tuple'>\n"
     ]
    }
   ],
   "source": [
    "### function 사용법\n",
    "def sum(a, b):\n",
    "    s = a + b\n",
    "    return s\n",
    "\n",
    "print(3+5)\n",
    "print(sum(3, 5))\n",
    "print(sum(2, 1))\n",
    "\n",
    "\n",
    "# 두개의 변수 반환하는 함수\n",
    "def sum_and_mul(a, b):\n",
    "    return a + b, a*b\n",
    "\n",
    "s, m = sum_and_mul(3,5)\n",
    "print(s) # 더한 값이 반환됐으므로 8\n",
    "print(m) # 곱한 값이 반환됐으므로 15\n",
    "\n",
    "\n",
    "# 무슨 형식인지 확인하기\n",
    "print(sum_and_mul(3, 5))  # (8,15)\n",
    "print(sum_and_mul(2, 1))  # (3,2)\n",
    "print(type(sum_and_mul(2,1)))  # tuple 형식"
   ]
  },
  {
   "cell_type": "markdown",
   "metadata": {},
   "source": [
    "# 파이썬의 제어문 \n",
    "## 파이썬의 제어문 - if"
   ]
  },
  {
   "cell_type": "code",
   "execution_count": 15,
   "metadata": {},
   "outputs": [
    {
     "name": "stdout",
     "output_type": "stream",
     "text": [
      "수혈해 주세요\n"
     ]
    }
   ],
   "source": [
    "blood_type1 = \"A\"\n",
    "emergency_patient_type1 = \"A\"\n",
    "blood_type2 = \"RH+\"\n",
    "emergency_patient_type2 = \"RH+\"\n",
    "\n",
    "### if 문 속 연속 조건 활용 (and, or)\n",
    "if blood_type1 == emergency_patient_type1 and blood_type2 == emergency_patient_type2:\n",
    "    print(\"수혈해 주세요\")\n",
    "else:\n",
    "    print(\"수혈해 주실 수 없습니다\")"
   ]
  },
  {
   "cell_type": "code",
   "execution_count": 16,
   "metadata": {},
   "outputs": [
    {
     "name": "stdout",
     "output_type": "stream",
     "text": [
      "점수를 확인해주세요\n"
     ]
    }
   ],
   "source": [
    "basic = 40\n",
    "intermediate = 70\n",
    "advanced = 100\n",
    "score = 110\n",
    "\n",
    "### 3개 이상의 조건이 필요하다면 : elif  <-- else if\n",
    "\n",
    "if score <= basic:  # 조건\n",
    "    print(\"초급반을 수강하세요\")  \n",
    "elif score <= intermediate: # 위의 조건중 만족하지 않을 때\n",
    "    print(\"중급반을 수강하세요\") \n",
    "elif score <= advanced: # 위의 조건중 만족하지 않을 때\n",
    "    print(\"고급반을 수강하세요\")\n",
    "else:  # 나머지 조건\n",
    "    print(\"점수를 확인해주세요\")"
   ]
  },
  {
   "cell_type": "markdown",
   "metadata": {},
   "source": [
    "## 파이썬의 제어문 - for"
   ]
  },
  {
   "cell_type": "code",
   "execution_count": 18,
   "metadata": {},
   "outputs": [
    {
     "name": "stdout",
     "output_type": "stream",
     "text": [
      "1번 학생은 합격입니다.\n",
      "2번 학생은 불합격입니다.\n",
      "3번 학생은 합격입니다.\n",
      "4번 학생은 불합격입니다.\n",
      "5번 학생은 합격입니다.\n"
     ]
    }
   ],
   "source": [
    "marks = [90, 25, 67, 45, 80]\n",
    "#         1   2   3   4   5  번 학생으로 지정되게 만듬\n",
    "\n",
    "number = 0\n",
    "### 기본 for문 사용\n",
    "for mark in marks:  # marks라는 리스트에서 하나씩 뽑아와라\n",
    "    number = number +1  \n",
    "    if mark >= 60:\n",
    "        print(\"%d번 학생은 합격입니다.\" % number)\n",
    "    else:\n",
    "        print(\"%d번 학생은 불합격입니다.\" % number)"
   ]
  },
  {
   "cell_type": "code",
   "execution_count": 17,
   "metadata": {},
   "outputs": [
    {
     "name": "stdout",
     "output_type": "stream",
     "text": [
      "1번 학생 축하합니다. 합격입니다. \n",
      "3번 학생 축하합니다. 합격입니다. \n",
      "5번 학생 축하합니다. 합격입니다. \n"
     ]
    }
   ],
   "source": [
    "### continue 활용하기 \n",
    "marks = [90, 25, 67, 45, 80]\n",
    "\n",
    "number = 0\n",
    "for mark in marks:\n",
    "    number = number +1\n",
    "    if mark < 60:\n",
    "        ### loop과정 중 다음으로 바로 넘어가기 : continue (맨 아래 까지 넘어가지도 않음)\n",
    "        # 60보다 작으면 continue에 걸려서 위로올라감, 60보다 크면 아래까지 내려감\n",
    "        continue\n",
    "    print(\"%d번 학생 축하합니다. 합격입니다. \" % number)"
   ]
  },
  {
   "cell_type": "code",
   "execution_count": 19,
   "metadata": {},
   "outputs": [
    {
     "name": "stdout",
     "output_type": "stream",
     "text": [
      "0\n",
      "1\n",
      "2\n",
      "3\n",
      "4\n",
      "5\n",
      "6\n",
      "7\n",
      "8\n",
      "9\n",
      "55\n",
      "2 4 6 8 10 12 14 16 18 \n",
      "3 6 9 12 15 18 21 24 27 \n",
      "4 8 12 16 20 24 28 32 36 \n",
      "5 10 15 20 25 30 35 40 45 \n",
      "6 12 18 24 30 36 42 48 54 \n",
      "7 14 21 28 35 42 49 56 63 \n",
      "8 16 24 32 40 48 56 64 72 \n",
      "9 18 27 36 45 54 63 72 81 \n"
     ]
    }
   ],
   "source": [
    "### 0부터 9까지 프린트 하기 \n",
    "for i in range(10):\n",
    "    print(i)\n",
    "\n",
    "### 1부터 10까지 더하기 \n",
    "sum = 0\n",
    "for i in range(1,11):\n",
    "    sum += i\n",
    "print(sum)\n",
    "\n",
    "### 이중 for문 \n",
    "for i in range(2,10):\n",
    "    for j in range(1, 10):\n",
    "        print(i*j, end=\" \")\n",
    "    print('')"
   ]
  },
  {
   "cell_type": "code",
   "execution_count": null,
   "metadata": {},
   "outputs": [],
   "source": []
  }
 ],
 "metadata": {
  "kernelspec": {
   "display_name": "Python 3",
   "language": "python",
   "name": "python3"
  },
  "language_info": {
   "codemirror_mode": {
    "name": "ipython",
    "version": 3
   },
   "file_extension": ".py",
   "mimetype": "text/x-python",
   "name": "python",
   "nbconvert_exporter": "python",
   "pygments_lexer": "ipython3",
   "version": "3.8.3"
  },
  "toc": {
   "base_numbering": 1,
   "nav_menu": {},
   "number_sections": true,
   "sideBar": true,
   "skip_h1_title": false,
   "title_cell": "Table of Contents",
   "title_sidebar": "Contents",
   "toc_cell": false,
   "toc_position": {},
   "toc_section_display": true,
   "toc_window_display": false
  },
  "varInspector": {
   "cols": {
    "lenName": 16,
    "lenType": 16,
    "lenVar": 40
   },
   "kernels_config": {
    "python": {
     "delete_cmd_postfix": "",
     "delete_cmd_prefix": "del ",
     "library": "var_list.py",
     "varRefreshCmd": "print(var_dic_list())"
    },
    "r": {
     "delete_cmd_postfix": ") ",
     "delete_cmd_prefix": "rm(",
     "library": "var_list.r",
     "varRefreshCmd": "cat(var_dic_list()) "
    }
   },
   "types_to_exclude": [
    "module",
    "function",
    "builtin_function_or_method",
    "instance",
    "_Feature"
   ],
   "window_display": false
  }
 },
 "nbformat": 4,
 "nbformat_minor": 4
}
